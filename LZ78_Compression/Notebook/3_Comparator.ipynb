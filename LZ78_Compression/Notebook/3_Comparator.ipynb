{
 "cells": [
  {
   "cell_type": "markdown",
   "id": "ac9883e1-f06d-4ce4-b424-5f6d54283b47",
   "metadata": {},
   "source": [
    "## 3. Comparator"
   ]
  },
  {
   "cell_type": "markdown",
   "id": "3b7a7438-fb71-42a3-82cc-355f1a5b7964",
   "metadata": {},
   "source": [
    "**This program is used to compare the input text with the decoded text and generate the comparison result.**"
   ]
  },
  {
   "cell_type": "markdown",
   "id": "22cbbe99-50d1-4539-a5ac-afd8355e741b",
   "metadata": {},
   "source": [
    "#### 1. Imports\n",
    "\n",
    "**I have imported the os library to perform file operations.**"
   ]
  },
  {
   "cell_type": "code",
   "execution_count": null,
   "id": "111e4f6c-3e54-4d9d-9a18-a44645182a43",
   "metadata": {},
   "outputs": [],
   "source": [
    "import os"
   ]
  },
  {
   "cell_type": "markdown",
   "id": "f22b4dc7-80b3-416c-bad4-1d30f9be0e06",
   "metadata": {},
   "source": [
    "#### 2. Define functions"
   ]
  },
  {
   "cell_type": "markdown",
   "id": "8e8e42de-ba32-4671-bb61-77cfc2416519",
   "metadata": {},
   "source": [
    "**This function is used to read a text file and return its content.**"
   ]
  },
  {
   "cell_type": "code",
   "execution_count": null,
   "id": "a73adc49-677f-4c97-a31e-2ca39dddb4ba",
   "metadata": {},
   "outputs": [],
   "source": [
    "def read_text_file(file_path) :\n",
    "    with open(file_path , 'r') as file :\n",
    "        return file.read().strip()"
   ]
  },
  {
   "cell_type": "markdown",
   "id": "61435b74-e9c4-4ee9-9174-e89e9c935515",
   "metadata": {},
   "source": [
    "**This function is used to compare the input text and decoded text.**"
   ]
  },
  {
   "cell_type": "code",
   "execution_count": null,
   "id": "f726db05-a1cf-407d-b936-9ec14a68f8e3",
   "metadata": {},
   "outputs": [],
   "source": [
    "def compare_ip_op(input_text , decoded_text):\n",
    "    if input_text == decoded_text :\n",
    "        return \"Good\"  \n",
    "    else :\n",
    "        return \"Bad\""
   ]
  },
  {
   "cell_type": "markdown",
   "id": "de611833-17a1-4a2b-bf08-b62fa335b03a",
   "metadata": {},
   "source": [
    "#### 3. Main function and code execution"
   ]
  },
  {
   "cell_type": "markdown",
   "id": "6d08bfac-895e-402d-9cb9-5b2b48561d43",
   "metadata": {},
   "source": [
    "**The main function is where all the operations are happening. I am calling all the methods defined above in the main function and executing them systematically and producing the output.**"
   ]
  },
  {
   "cell_type": "code",
   "execution_count": null,
   "id": "a33c5a12-cab3-4b8c-be5a-34adeb018099",
   "metadata": {},
   "outputs": [],
   "source": [
    "def main():\n",
    "    # I/p and decompressed O/p file paths\n",
    "    input_file= \"./Dumps/Input_Text_File.txt\"\n",
    "    decoded_file = \"./Dumps/Decoded_Text_File.txt\"\n",
    "\n",
    "    # Step 1: Reading the decoded text file\n",
    "    final_decoded_text = read_text_file(decoded_file)\n",
    "\n",
    "    # Step 2: Reading the input text file\n",
    "    input_text= read_text_file(input_file)\n",
    "\n",
    "    # Step 3: Comparing input text with the final decoded text\n",
    "    comparison_result = compare_ip_op(input_text , final_decoded_text)\n",
    "    print(\"\\033[95m\\nComparison Result:\\033[0m\", comparison_result,\n",
    "          \"\\n\\033[95m\\033[0m\")\n",
    "\n",
    "if __name__ ==  \"__main__\" :\n",
    "    main()"
   ]
  }
 ],
 "metadata": {
  "kernelspec": {
   "display_name": "Python 3 (ipykernel)",
   "language": "python",
   "name": "python3"
  },
  "language_info": {
   "codemirror_mode": {
    "name": "ipython",
    "version": 3
   },
   "file_extension": ".py",
   "mimetype": "text/x-python",
   "name": "python",
   "nbconvert_exporter": "python",
   "pygments_lexer": "ipython3",
   "version": "3.13.1"
  }
 },
 "nbformat": 4,
 "nbformat_minor": 5
}
