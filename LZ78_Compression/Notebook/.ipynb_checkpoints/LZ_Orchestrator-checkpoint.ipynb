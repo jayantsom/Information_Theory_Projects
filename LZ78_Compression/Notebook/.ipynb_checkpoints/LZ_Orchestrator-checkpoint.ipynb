{
 "cells": [
  {
   "cell_type": "markdown",
   "id": "4f36862b-10bf-4ec3-9998-1662608ec77c",
   "metadata": {},
   "source": [
    "## Orchestrator : Example 3"
   ]
  },
  {
   "cell_type": "markdown",
   "id": "7e5efca6-2281-4a46-a963-35ceedbe2c9b",
   "metadata": {},
   "source": [
    "**This program is used to run the modules sequentially one after the other.**"
   ]
  },
  {
   "cell_type": "code",
   "execution_count": 1,
   "id": "3ba2e8c7-5cbe-431f-96f2-15453479af9c",
   "metadata": {},
   "outputs": [
    {
     "name": "stdout",
     "output_type": "stream",
     "text": [
      "\u001b[93m\n",
      "Input text:\u001b[0m The quick brown fox jumps over the lazy dog.\n",
      "\u001b[96m\n",
      "    Size of the input text:\u001b[0m 352 Bits\n",
      "\u001b[92m\n",
      "    Size of the compressed binary output:\u001b[0m 512 Bits\n",
      "\u001b[91m\n",
      "Decoded text:\u001b[0m The quick brown fox jumps over the lazy dog. \u001b[91m\u001b[0m\n",
      "\u001b[95m\n",
      "Comparison Result:\u001b[0m Good \n",
      "\u001b[95m\u001b[0m\n"
     ]
    }
   ],
   "source": [
    "%run 1_Compression.ipynb\n",
    "\n",
    "%run 2_Decompression.ipynb\n",
    "\n",
    "%run 3_Comparator.ipynb"
   ]
  },
  {
   "cell_type": "markdown",
   "id": "b1322df5-0e9e-41bf-94da-e741f3b63a4c",
   "metadata": {},
   "source": [
    "**In this example, the text is a pangram, which contains all alphabets in English. There are no repeated phrases. So we are not able to compress this type of text using LZ algorithm.**"
   ]
  }
 ],
 "metadata": {
  "kernelspec": {
   "display_name": "Python 3 (ipykernel)",
   "language": "python",
   "name": "python3"
  },
  "language_info": {
   "codemirror_mode": {
    "name": "ipython",
    "version": 3
   },
   "file_extension": ".py",
   "mimetype": "text/x-python",
   "name": "python",
   "nbconvert_exporter": "python",
   "pygments_lexer": "ipython3",
   "version": "3.13.1"
  }
 },
 "nbformat": 4,
 "nbformat_minor": 5
}
