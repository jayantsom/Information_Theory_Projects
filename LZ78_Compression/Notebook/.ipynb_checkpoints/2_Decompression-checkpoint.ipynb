{
 "cells": [
  {
   "cell_type": "markdown",
   "id": "304ac9d6-5857-4c89-ac7d-411922dd9032",
   "metadata": {},
   "source": [
    "## 2. Decompressor"
   ]
  },
  {
   "cell_type": "markdown",
   "id": "212f0506-eada-4c64-8408-9cd529415a70",
   "metadata": {},
   "source": [
    "**This program is used to decompress a decoded text generated using LZ algorithm**"
   ]
  },
  {
   "cell_type": "markdown",
   "id": "ba9cb34e-2288-4f30-9929-ec28813b28d4",
   "metadata": {},
   "source": [
    "#### 1. Imports\n",
    "\n",
    "**I have imported the os library to perform file operations.**"
   ]
  },
  {
   "cell_type": "code",
   "execution_count": null,
   "id": "4176c3cf-d98e-49be-be5c-4c4b7b637b6d",
   "metadata": {},
   "outputs": [],
   "source": [
    "import os"
   ]
  },
  {
   "cell_type": "markdown",
   "id": "758f7520-87dc-48bd-aa0d-d34dec94a2b5",
   "metadata": {},
   "source": [
    "#### 2. Define functions"
   ]
  },
  {
   "cell_type": "markdown",
   "id": "e15d4ee7-6d4a-4e29-9545-dd52c563b31d",
   "metadata": {},
   "source": [
    "**This function is used to read a binary file and return its content.**"
   ]
  },
  {
   "cell_type": "code",
   "execution_count": null,
   "id": "a33e5a20-be13-4cc7-a42a-daa830ef5e03",
   "metadata": {},
   "outputs": [],
   "source": [
    "def read_binary_file(file_path):\n",
    "    try:\n",
    "        with open(file_path, 'rb') as file:\n",
    "            return file.read()\n",
    "    except FileNotFoundError:\n",
    "        print(f\"Error: File not found.\")\n",
    "        return None\n",
    "    except IOError as e:\n",
    "        print(f\"Error reading file : {e}\")\n",
    "        return None"
   ]
  },
  {
   "cell_type": "markdown",
   "id": "d1ffea39-39e8-47c6-bd6a-a2f3ad87a94c",
   "metadata": {},
   "source": [
    "**This function is used to read a binary file and return its content.**"
   ]
  },
  {
   "cell_type": "code",
   "execution_count": null,
   "id": "59ff1516-80b6-4c2e-9f6b-4e67076060eb",
   "metadata": {},
   "outputs": [],
   "source": [
    "# Used to write to text file.\n",
    "def write_decoded_text_file(file_path  , text) :\n",
    "    with open(file_path , \"w\" , encoding  =\"utf-8\") as file:\n",
    "        file.write(text)"
   ]
  },
  {
   "cell_type": "markdown",
   "id": "6ac09f8f-98f4-4877-aed3-e066530367ef",
   "metadata": {},
   "source": [
    "**This function is used to convert compressed binary data back into phrase encoded format.**"
   ]
  },
  {
   "cell_type": "code",
   "execution_count": null,
   "id": "74a32b78-458b-456c-b561-ca270203ba17",
   "metadata": {},
   "outputs": [],
   "source": [
    "def binary_to_encoded(binary_data ):\n",
    "    encoded_data= []\n",
    "    i = 0\n",
    "    while i < len(binary_data) :\n",
    "        index = int( binary_data[i:i+8], 2)\n",
    "        i += 8\n",
    "        if i + 8 <= len( binary_data):\n",
    "            char = chr(int(binary_data[i:i+8] , 2))\n",
    "            i += 8\n",
    "        else:\n",
    "            char = ''\n",
    "        encoded_data.append((index, char ))\n",
    "    return encoded_data"
   ]
  },
  {
   "cell_type": "markdown",
   "id": "5e678028-fdbc-4b79-80cf-754b7244cd3c",
   "metadata": {},
   "source": [
    "**This function is used to decompress the phrase encoded data back into text.**"
   ]
  },
  {
   "cell_type": "code",
   "execution_count": null,
   "id": "c5e65caf-dc10-45da-b912-c34bfc4f3389",
   "metadata": {},
   "outputs": [],
   "source": [
    "def lempel_ziv_decompression(compressed_data ) :\n",
    "    phrase_dictionary = {}\n",
    "    next_index = 1\n",
    "    decompressed_text = \"\"\n",
    "\n",
    "    for index , last_bit in compressed_data:\n",
    "        if index == 0 :\n",
    "            phrase =last_bit\n",
    "        else :\n",
    "            phrase = phrase_dictionary[index] + last_bit\n",
    "        \n",
    "        decompressed_text +=  phrase\n",
    "        phrase_dictionary[next_index] = phrase\n",
    "        next_index += 1\n",
    "\n",
    "    return decompressed_text"
   ]
  },
  {
   "cell_type": "markdown",
   "id": "a5894aef-c7b5-4b97-95ca-031d469e312b",
   "metadata": {},
   "source": [
    "#### 3. Main function and code execution"
   ]
  },
  {
   "cell_type": "markdown",
   "id": "b7a3d282-d16c-4e65-b4f1-33ad090624b4",
   "metadata": {},
   "source": [
    "**The main function is where all the operations are happening. I am calling all the methods defined above in the main function and executing them systematically and producing the output.**"
   ]
  },
  {
   "cell_type": "code",
   "execution_count": null,
   "id": "6baafe19-d3e6-4d46-9bb4-1c4c66dd8e3b",
   "metadata": {},
   "outputs": [],
   "source": [
    "def main() :\n",
    "    # Compressed and decompressed o/p file paths\n",
    "    compressed_file = \"./Dumps/Compressed_version.bin\"\n",
    "    decoded_file  = \"./Dumps/Decoded_Text_File.txt\"\n",
    "\n",
    "    # Step 1: Reading the binary file containing the compressed binary data\n",
    "    compressed_binary_data = read_binary_file(compressed_file)\n",
    "\n",
    "    # Step 2: Converting compressed binary data back into encoded phrase format.\n",
    "    encoded_data = binary_to_encoded(compressed_binary_data )\n",
    "\n",
    "    # Step 3: Converting the LZ78 encoded phrase format back into text.\n",
    "    decoded_text= lempel_ziv_decompression(encoded_data)\n",
    "\n",
    "    # Step 4: Saving the decompressed text to a file\n",
    "    write_decoded_text_file(decoded_file , decoded_text)\n",
    "    print(\"\\033[91m\\nDecoded text:\\033[0m\", decoded_text,\n",
    "          \"\\033[91m\\033[0m\")\n",
    "\n",
    "if __name__ == \"__main__\":\n",
    "    main()\n"
   ]
  }
 ],
 "metadata": {
  "kernelspec": {
   "display_name": "Python 3 (ipykernel)",
   "language": "python",
   "name": "python3"
  },
  "language_info": {
   "codemirror_mode": {
    "name": "ipython",
    "version": 3
   },
   "file_extension": ".py",
   "mimetype": "text/x-python",
   "name": "python",
   "nbconvert_exporter": "python",
   "pygments_lexer": "ipython3",
   "version": "3.13.1"
  }
 },
 "nbformat": 4,
 "nbformat_minor": 5
}
