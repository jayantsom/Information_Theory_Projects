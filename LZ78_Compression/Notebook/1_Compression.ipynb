{
 "cells": [
  {
   "cell_type": "markdown",
   "id": "a16110ee-c769-4359-909e-52b77b030f92",
   "metadata": {},
   "source": [
    "## Implementation of LZ algorithm\n",
    "\n",
    "**I have implemented the LZ algorithm using Python programming language. My program consists of 3 modules:**\n",
    "\n",
    "**- Compression**\n",
    "\n",
    "**- Decompression**\n",
    "\n",
    "**- Comparison**\n",
    "\n",
    "***The Orchestrator is used to run the 3 modules sequentially one after the another.***"
   ]
  },
  {
   "cell_type": "markdown",
   "id": "9f5aa077-b4c9-435d-bd44-e5101bb50e2c",
   "metadata": {},
   "source": [
    "## 1. Compressor"
   ]
  },
  {
   "cell_type": "markdown",
   "id": "9ec208bd-b03d-4f58-bf94-0603b188548f",
   "metadata": {},
   "source": [
    "**This program is used to compress the input text using LZ algorithm.**"
   ]
  },
  {
   "cell_type": "markdown",
   "id": "74c23f4a-0fbe-41b3-9479-95e2cf339f6a",
   "metadata": {},
   "source": [
    "#### 1. Imports\n",
    "\n",
    "**I have imported the os library to perform file operations.**"
   ]
  },
  {
   "cell_type": "code",
   "execution_count": null,
   "id": "720f3d9b-42af-4d16-b167-16c3041f979a",
   "metadata": {},
   "outputs": [],
   "source": [
    "import os"
   ]
  },
  {
   "cell_type": "markdown",
   "id": "f4a298b8-1e2d-435f-92f8-a59086b8648a",
   "metadata": {},
   "source": [
    "#### 2. Define functions"
   ]
  },
  {
   "cell_type": "markdown",
   "id": "656daba8-5145-4e62-8a8c-ecee3753e074",
   "metadata": {},
   "source": [
    "**This function is used to read a text file and return its content.**"
   ]
  },
  {
   "cell_type": "code",
   "execution_count": null,
   "id": "607add8f-bd87-401d-80c0-b3332b1d63d5",
   "metadata": {},
   "outputs": [],
   "source": [
    "def read_text_file(file_path):\n",
    "    with open(file_path, 'r') as file :\n",
    "        return file.read().strip()"
   ]
  },
  {
   "cell_type": "markdown",
   "id": "b990e46e-db84-4b55-b36b-7f255e593c5d",
   "metadata": {},
   "source": [
    "**This function is used to write binary data to a file.**"
   ]
  },
  {
   "cell_type": "code",
   "execution_count": null,
   "id": "e2fbcc25-eb65-4241-822e-9fa32af5a555",
   "metadata": {},
   "outputs": [],
   "source": [
    "def write_binary_file(file_path, binary_data):\n",
    "    with open(file_path, 'wb') as file :\n",
    "        file.write(binary_data)"
   ]
  },
  {
   "cell_type": "markdown",
   "id": "0390f776-2782-4344-8420-2c8facf31392",
   "metadata": {},
   "source": [
    "**This function is used to compress the input text using LZ78 algorithm.**\n",
    "\n",
    "**It compresses the text and generates encodings for each segment.**"
   ]
  },
  {
   "cell_type": "code",
   "execution_count": null,
   "id": "2ddfe263-cc87-4770-af67-2a25083222a8",
   "metadata": {},
   "outputs": [],
   "source": [
    "def lempel_ziv_compression(input_text):\n",
    "    phrase_dictionary = {}\n",
    "    next_index = 1\n",
    "    current_phrase = \"\"\n",
    "    compressed_text = []\n",
    "    \n",
    "    for char in input_text:\n",
    "        new_phrase = current_phrase + char\n",
    "        if new_phrase not in phrase_dictionary :\n",
    "            if current_phrase:\n",
    "                compressed_text.append((phrase_dictionary[current_phrase],\n",
    "                                        char))\n",
    "            else:\n",
    "                compressed_text.append((0, char))\n",
    "            phrase_dictionary[new_phrase] = next_index\n",
    "            next_index += 1\n",
    "            current_phrase = \"\"\n",
    "        else:\n",
    "            current_phrase = new_phrase\n",
    "\n",
    "    if current_phrase:\n",
    "        compressed_text.append((phrase_dictionary[current_phrase] , ''))\n",
    "\n",
    "    return compressed_text"
   ]
  },
  {
   "cell_type": "markdown",
   "id": "b258ecb5-0615-4a90-b79f-eea6b5c28fd7",
   "metadata": {},
   "source": [
    "**This function is used to convert the compressed text encodings into binary format.**\n",
    "\n",
    "- 8-bit binary for index\n",
    "- 8-bit binary for the last bit (ASCII)"
   ]
  },
  {
   "cell_type": "code",
   "execution_count": null,
   "id": "d38de365-069a-42de-8327-f3e5c78333e6",
   "metadata": {},
   "outputs": [],
   "source": [
    "def compressed_phrase_to_binary(compressed_data):\n",
    "    binary_output = \"\"\n",
    "    for index, char in compressed_data :\n",
    "        binary_output += f\"{index:08b}\"  \n",
    "        if char:\n",
    "            binary_output += f\"{ord(char):08b}\" \n",
    "    return binary_output"
   ]
  },
  {
   "cell_type": "markdown",
   "id": "7b3c18a0-9657-4ec9-bdf5-fb1b6ccae8ef",
   "metadata": {},
   "source": [
    "#### 3. Main function and code execution"
   ]
  },
  {
   "cell_type": "markdown",
   "id": "49fee321-dcc0-4b7a-b8c1-01323e20bdc5",
   "metadata": {},
   "source": [
    "**The main function is where all the operations are happening. I am calling all the methods defined above in the main function and executing them systematically and producing the output.**"
   ]
  },
  {
   "cell_type": "code",
   "execution_count": null,
   "id": "231b8d06-36a9-43dd-977a-7c7d0dc91d33",
   "metadata": {},
   "outputs": [],
   "source": [
    "def main():\n",
    "    # I/p and O/p file paths\n",
    "    input_file = \"./Dumps/Input_Text_File.txt\"\n",
    "    compressed_file= \"./Dumps/Compressed_version.bin\"\n",
    "\n",
    "    # Step 1: Reading the input text file and finding its size in bits\n",
    "    input_text = read_text_file(input_file)\n",
    "    print(\"\\033[93m\\nInput text:\\033[0m\", input_text)\n",
    "    print(\"\\033[96m\\n    Size of the input text:\\033[0m\",\n",
    "          len(input_text)*8,\"Bits\")\n",
    "\n",
    "    # Step 2: Compressing the input text using the LZ78 algorithm\n",
    "    compressed_data = lempel_ziv_compression(input_text)\n",
    "\n",
    "    # Step 3: Converting the compressed phrases into binary format\n",
    "    binary_data = compressed_phrase_to_binary(compressed_data)\n",
    "\n",
    "    # Step 4: Writing the compressed binary data to a binary file\n",
    "    write_binary_file(compressed_file, binary_data.encode('utf-8'))\n",
    "    print(\"\\033[92m\\n    Size of the compressed binary output:\\033[0m\",\n",
    "          len(binary_data),\"Bits\")\n",
    "\n",
    "if __name__ == \"__main__\":\n",
    "    main()"
   ]
  }
 ],
 "metadata": {
  "kernelspec": {
   "display_name": "Python 3 (ipykernel)",
   "language": "python",
   "name": "python3"
  },
  "language_info": {
   "codemirror_mode": {
    "name": "ipython",
    "version": 3
   },
   "file_extension": ".py",
   "mimetype": "text/x-python",
   "name": "python",
   "nbconvert_exporter": "python",
   "pygments_lexer": "ipython3",
   "version": "3.13.1"
  }
 },
 "nbformat": 4,
 "nbformat_minor": 5
}
