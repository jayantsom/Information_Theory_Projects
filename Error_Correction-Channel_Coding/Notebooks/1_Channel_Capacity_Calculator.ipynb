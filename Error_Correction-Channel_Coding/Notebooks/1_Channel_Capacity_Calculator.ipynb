{
 "cells": [
  {
   "cell_type": "code",
   "execution_count": null,
   "id": "ece93fe1-a091-4a2b-bae7-534d135695b0",
   "metadata": {},
   "outputs": [],
   "source": [
    "import numpy as np\n",
    "from scipy.optimize import minimize_scalar\n",
    "\n",
    "# I am taking channel probabilities as input\n",
    "input_str = input(\"Enter p(0|0), p(1|0), p(0|1), p(1|1) (comma-separated): \")\n",
    "p0_0, p1_0, p0_1, p1_1 = map(float, input_str.split(','))\n",
    "\n",
    "# I am validating probability distributions\n",
    "# Checking if the first pair of probabilities sums to approximately 1\n",
    "assert np.isclose(p0_0 + p1_0, 1), \"First probability pair does not sum to 1\"\n",
    "# Checking if the second pair of probabilities sums to approximately 1\n",
    "assert np.isclose(p0_1 + p1_1, 1), \"Second probability pair does not sum to 1\"\n",
    "\n",
    "# I am structuring channel probabilities for easy access\n",
    "pYgX = {\n",
    "    0: {0: p0_0, 1: p1_0},\n",
    "    1: {0: p0_1, 1: p1_1}\n",
    "}\n",
    "\n",
    "def mutual_info(q):\n",
    "    # I am calculating output distribution Pr(Y)\n",
    "    pY0 = q * p0_0 + (1-q) * p0_1\n",
    "    pY1 = q * p1_0 + (1-q) * p1_1\n",
    "    \n",
    "    # I am computing output entropy H(Y)\n",
    "    HY = 0.0\n",
    "    if pY0 > 0:\n",
    "        HY -= pY0 * np.log2(pY0)\n",
    "    if pY1 > 0:\n",
    "        HY -= pY1 * np.log2(pY1)\n",
    "    \n",
    "    # I am computing conditional entropy H(Y|X)\n",
    "    HYgX = 0.0\n",
    "    if p0_0 > 0:\n",
    "        HYgX += q * (-p0_0 * np.log2(p0_0))\n",
    "    if p1_0 > 0:\n",
    "        HYgX += q * (-p1_0 * np.log2(p1_0))\n",
    "    if p0_1 > 0:\n",
    "        HYgX += (1-q) * (-p0_1 * np.log2(p0_1))\n",
    "    if p1_1 > 0:\n",
    "        HYgX += (1-q) * (-p1_1 * np.log2(p1_1))\n",
    "    \n",
    "    return HY - HYgX\n",
    "\n",
    "# I am finding capacity by optimizing mutual information\n",
    "result = minimize_scalar(lambda q: -mutual_info(q), bounds=(0,1), method='bounded')\n",
    "C = mutual_info(result.x)\n",
    "q_opt = result.x\n",
    "\n",
    "# I am storing results for later use\n",
    "get_ipython().push({'pYgX': pYgX, 'C': C, 'q_opt': q_opt})\n",
    "print(f\"\\n• Computed Capacity: C = {C:.4f} bits\\n• Optimal q* = {q_opt:.4f}\")"
   ]
  }
 ],
 "metadata": {
  "kernelspec": {
   "display_name": "Python 3 (ipykernel)",
   "language": "python",
   "name": "python3"
  },
  "language_info": {
   "codemirror_mode": {
    "name": "ipython",
    "version": 3
   },
   "file_extension": ".py",
   "mimetype": "text/x-python",
   "name": "python",
   "nbconvert_exporter": "python",
   "pygments_lexer": "ipython3",
   "version": "3.13.1"
  }
 },
 "nbformat": 4,
 "nbformat_minor": 5
}
