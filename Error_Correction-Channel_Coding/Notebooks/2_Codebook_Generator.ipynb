{
 "cells": [
  {
   "cell_type": "code",
   "execution_count": null,
   "id": "0cac4892-4aaf-4066-bad2-896a71e4b60b",
   "metadata": {},
   "outputs": [],
   "source": [
    "import numpy as np\n",
    "\n",
    "# I am setting up code parameters using channel capacity results\n",
    "n = 24  # Blocklength\n",
    "R = 0.75 * C  # Rate (75% of capacity)\n",
    "M = int(2 ** (n * R))  # Number of codewords\n",
    "\n",
    "# I am displaying key parameters for verification\n",
    "print(f\"Parameters:\")\n",
    "print(f\"- Blocklength (n): {n}\")\n",
    "print(f\"- Rate (R): {R:.4f} (75% of capacity C = {C:.4f})\")\n",
    "print(f\"- Number of codewords (M): {M}\")\n",
    "print(f\"- Input distribution q*: [0 = {q_opt:.4f}, 1 = {1-q_opt:.4f}]\")\n",
    "\n",
    "# I am generating random codewords using the optimal distribution\n",
    "codebook = []\n",
    "for i in range(M):\n",
    "    codeword = np.random.choice(['0','1'], size = n, p = [q_opt, 1-q_opt])\n",
    "    codebook.append(''.join(codeword))\n",
    "\n",
    "# I am saving the codebook to a text file\n",
    "with open(\"Codebook.txt\", \"w\") as f:\n",
    "    f.write(\"\\n\".join(codebook))\n",
    "    \n",
    "# I am confirming successful generation and storing variables\n",
    "print(f\"\\033[1;32m\\nSuccessfully saved {M} codewords to Codebook.txt !\\033[0m\")\n",
    "get_ipython().push({'M': M, 'n': n, 'R': R})"
   ]
  }
 ],
 "metadata": {
  "kernelspec": {
   "display_name": "Python 3 (ipykernel)",
   "language": "python",
   "name": "python3"
  },
  "language_info": {
   "codemirror_mode": {
    "name": "ipython",
    "version": 3
   },
   "file_extension": ".py",
   "mimetype": "text/x-python",
   "name": "python",
   "nbconvert_exporter": "python",
   "pygments_lexer": "ipython3",
   "version": "3.13.1"
  }
 },
 "nbformat": 4,
 "nbformat_minor": 5
}
