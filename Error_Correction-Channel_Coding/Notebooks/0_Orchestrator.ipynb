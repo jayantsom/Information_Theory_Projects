{
 "cells": [
  {
   "cell_type": "code",
   "execution_count": 1,
   "id": "d050630b-b898-4fe0-ab46-599de5f9408b",
   "metadata": {},
   "outputs": [
    {
     "name": "stdout",
     "output_type": "stream",
     "text": [
      "\u001b[1;31m\n",
      "\n",
      "==== 1. CHANNEL CAPACITY CALCULATION ====\n",
      "\u001b[0m\n"
     ]
    },
    {
     "name": "stdin",
     "output_type": "stream",
     "text": [
      "Enter p(0|0), p(1|0), p(0|1), p(1|1) (comma-separated):  0.8, 0.2, 0.2, 0.8\n"
     ]
    },
    {
     "name": "stdout",
     "output_type": "stream",
     "text": [
      "\n",
      "• Computed Capacity: C = 0.2781 bits\n",
      "• Optimal q* = 0.5000\n",
      "\u001b[1;34m\n",
      "==== 2. CODEBOOK GENERATION ====\n",
      "\u001b[0m\n",
      "Parameters:\n",
      "- Blocklength (n): 24\n",
      "- Rate (R): 0.2086 (75% of capacity C = 0.2781)\n",
      "- Number of codewords (M): 32\n",
      "- Input distribution q*: [0 = 0.5000, 1 = 0.5000]\n",
      "\u001b[1;32m\n",
      "Successfully saved 32 codewords to Codebook.txt !\u001b[0m\n",
      "\u001b[1;35m\n",
      "==== 3. TRANSMISSION SIMULATION ====\n",
      "\u001b[0m\n",
      "============================================================\n",
      "RUNNING 1000 TRANSMISSION TRIALS\n",
      "\n",
      "Displaying 10 random samples below:\n",
      "\n",
      "Trial  | w    | x^n(w)                   | y^n                      | w^   | Result  \n",
      "-------------------------------------------------------------------------------------\n",
      "118    | 16   | 101010111101111011110010 | 101110111000110011010010 | 16   | SUCCESS \n",
      "412    | 26   | 000000000110101111001011 | 010000000101101111001000 | 26   | SUCCESS \n",
      "427    | 20   | 000001111011101101010100 | 011011111010100000010100 | 20   | SUCCESS \n",
      "492    | 28   | 010111101001100010001010 | 010111000001100110001110 | 28   | SUCCESS \n",
      "542    | 14   | 001100100110111001111011 | 011100110110111111110101 | 2    | ERROR   \n",
      "560    | 12   | 110000000001001010110010 | 000100000011001011111111 | 12   | SUCCESS \n",
      "691    | 30   | 111001101001101110010000 | 111001001101101010010000 | 30   | SUCCESS \n",
      "696    | 24   | 011010010110010010111001 | 011000010110000110111001 | 24   | SUCCESS \n",
      "725    | 29   | 001000111001001110101000 | 001111101011001100001000 | 17   | ERROR   \n",
      "869    | 5    | 101001101100010001101000 | 101000101000010111101011 | 5    | SUCCESS \n",
      "\n",
      "============================================================\n",
      "\u001b[1;32mSimulation completed in 1.59 seconds!\u001b[0m\n",
      "\u001b[1;31m\n",
      "==== FINAL RESULTS ====\n",
      "\u001b[0m\n",
      "- Total trials: 1000\n",
      "\u001b[1;32m- Success rate: 81.00%\u001b[0m\n",
      "============================================================\n"
     ]
    }
   ],
   "source": [
    "# I am configuring the notebook files\n",
    "%config InteractiveShell.ast_node_interactivity = 'all'\n",
    "%reload_ext autoreload\n",
    "%autoreload 2\n",
    "\n",
    "# Running the components in the following sequence : \n",
    "print(\"\\033[1;31m\\n\\n==== 1. CHANNEL CAPACITY CALCULATION ====\\n\\033[0m\")\n",
    "%run -i 1_Channel_Capacity_Calculator.ipynb\n",
    "\n",
    "print(\"\\033[1;34m\\n==== 2. CODEBOOK GENERATION ====\\n\\033[0m\")\n",
    "%run -i 2_Codebook_Generator.ipynb\n",
    "\n",
    "print(\"\\033[1;35m\\n==== 3. TRANSMISSION SIMULATION ====\\n\\033[0m\")\n",
    "%run -i 3_Simulator.ipynb"
   ]
  }
 ],
 "metadata": {
  "kernelspec": {
   "display_name": "Python 3 (ipykernel)",
   "language": "python",
   "name": "python3"
  },
  "language_info": {
   "codemirror_mode": {
    "name": "ipython",
    "version": 3
   },
   "file_extension": ".py",
   "mimetype": "text/x-python",
   "name": "python",
   "nbconvert_exporter": "python",
   "pygments_lexer": "ipython3",
   "version": "3.13.1"
  }
 },
 "nbformat": 4,
 "nbformat_minor": 5
}
